{
 "cells": [
  {
   "cell_type": "code",
   "execution_count": null,
   "id": "60458d32-31d4-4bdd-beef-2da20a85dbdd",
   "metadata": {
    "tags": []
   },
   "outputs": [],
   "source": [
    "import torch\n",
    "print(torch. __version__)"
   ]
  },
  {
   "cell_type": "code",
   "execution_count": null,
   "id": "3b61de9c-c7d7-4c6a-8061-0451e0da6f96",
   "metadata": {
    "tags": []
   },
   "outputs": [],
   "source": [
    "import os\n",
    "import platform\n",
    "import sys\n",
    "print(platform.system())"
   ]
  },
  {
   "cell_type": "code",
   "execution_count": null,
   "id": "463f94e6-cfab-4d69-8df5-9015c35dd130",
   "metadata": {},
   "outputs": [],
   "source": [
    "print(10)"
   ]
  },
  {
   "cell_type": "markdown",
   "id": "b7e293e1-6597-4e2e-95b5-cb8fb14a3cd2",
   "metadata": {},
   "source": [
    "#### Initializing a variable"
   ]
  },
  {
   "cell_type": "code",
   "execution_count": null,
   "id": "2dff3847-382c-49ce-b1bf-26d5daa0b5fa",
   "metadata": {
    "tags": []
   },
   "outputs": [],
   "source": [
    "a = 10\n",
    "print(a)"
   ]
  },
  {
   "cell_type": "code",
   "execution_count": null,
   "id": "0b08fbed-b7b2-4af8-a6e9-a4d3f70de0d2",
   "metadata": {
    "tags": []
   },
   "outputs": [],
   "source": [
    "b = 20 \n",
    "print(b)"
   ]
  },
  {
   "cell_type": "code",
   "execution_count": null,
   "id": "83eff5df-d8bf-4d4a-8fa0-6e63e20c8cfb",
   "metadata": {
    "tags": []
   },
   "outputs": [],
   "source": [
    "print(a+b)"
   ]
  },
  {
   "cell_type": "code",
   "execution_count": null,
   "id": "87db7d2b-943f-45e8-b910-7163ec07bbfd",
   "metadata": {
    "tags": []
   },
   "outputs": [],
   "source": [
    "print(a*b)"
   ]
  },
  {
   "cell_type": "markdown",
   "id": "cbaab5e5-0baf-4f59-b826-5818c0fc9560",
   "metadata": {},
   "source": [
    "#### Add 1 to existing variable"
   ]
  },
  {
   "cell_type": "code",
   "execution_count": null,
   "id": "17b8f994-72e4-4d77-961d-498e95686414",
   "metadata": {
    "tags": []
   },
   "outputs": [],
   "source": [
    "a = 10\n",
    "print(a)\n",
    "print(a+1)"
   ]
  },
  {
   "cell_type": "markdown",
   "id": "26268ef6-be80-4a10-ada7-e931b8849cc4",
   "metadata": {},
   "source": [
    "#### Incrementing Variables"
   ]
  },
  {
   "cell_type": "code",
   "execution_count": null,
   "id": "379c1ff6-2f63-43c0-8dcc-21a2f40e6aa4",
   "metadata": {
    "tags": []
   },
   "outputs": [],
   "source": [
    "a = 10\n",
    "print(a)\n",
    "a=a+1\n",
    "print(a)\n",
    "a=a+1\n",
    "print(a)\n",
    "a=a+1\n",
    "print(a)"
   ]
  },
  {
   "cell_type": "markdown",
   "id": "822b937b-e335-4918-aba8-963ef622c82c",
   "metadata": {},
   "source": [
    "#### User input (integer) and assign to a variable 'n'"
   ]
  },
  {
   "cell_type": "code",
   "execution_count": 4,
   "id": "fbc9f72b-7ce5-42da-ad98-60f733ec420e",
   "metadata": {
    "tags": []
   },
   "outputs": [
    {
     "name": "stdout",
     "output_type": "stream",
     "text": [
      "Enter a number:\n"
     ]
    },
    {
     "name": "stdin",
     "output_type": "stream",
     "text": [
      " 10\n"
     ]
    }
   ],
   "source": [
    "print(\"Enter a number:\")\n",
    "n=int(input())\n"
   ]
  },
  {
   "cell_type": "code",
   "execution_count": 6,
   "id": "5afeb9f6-bba5-4545-8976-05d99a078123",
   "metadata": {
    "tags": []
   },
   "outputs": [
    {
     "name": "stdout",
     "output_type": "stream",
     "text": [
      "10\n",
      "11\n",
      "12\n",
      "13\n"
     ]
    }
   ],
   "source": [
    "print(n)\n",
    "print(n+1)\n",
    "print(n+2)\n",
    "print(n+3)"
   ]
  },
  {
   "cell_type": "code",
   "execution_count": null,
   "id": "3b7405bc-57c9-48cf-b7f4-34cf0b04d044",
   "metadata": {},
   "outputs": [],
   "source": []
  }
 ],
 "metadata": {
  "kernelspec": {
   "display_name": "Python 3 (ipykernel)",
   "language": "python",
   "name": "python3"
  },
  "language_info": {
   "codemirror_mode": {
    "name": "ipython",
    "version": 3
   },
   "file_extension": ".py",
   "mimetype": "text/x-python",
   "name": "python",
   "nbconvert_exporter": "python",
   "pygments_lexer": "ipython3",
   "version": "3.11.6"
  }
 },
 "nbformat": 4,
 "nbformat_minor": 5
}
